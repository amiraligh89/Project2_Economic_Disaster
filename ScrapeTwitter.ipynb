{
 "cells": [
  {
   "cell_type": "code",
   "execution_count": 1,
   "metadata": {},
   "outputs": [],
   "source": [
    "import pandas as pd\n",
    "import os\n",
    "inpath = os.path.join('.','Input_Data')\n",
    "outpath = os.path.join('..','Load')"
   ]
  },
  {
   "cell_type": "code",
   "execution_count": 2,
   "metadata": {},
   "outputs": [],
   "source": [
    "def scrape_naics(code):\n",
    "    \n",
    "    # set the specific url\n",
    "    url = f'https://www.naics.com/six-digit-naics/?code={code}'\n",
    "    \n",
    "    # Pull the table from the URL into a list\n",
    "    tables = pd.read_html(url)\n",
    "\n",
    "    df = tables[0]\n",
    "    df.columns = ['NAICS_code', 'Industry_Title', 'Num_Businesses']\n",
    "    \n",
    "    print(f\"NAICS codes read for code group {code} with {len(df)} rows.\")\n",
    "    \n",
    "    return df"
   ]
  },
  {
   "cell_type": "code",
   "execution_count": 3,
   "metadata": {},
   "outputs": [
    {
     "name": "stdout",
     "output_type": "stream",
     "text": [
      "NAICS codes read for code group 11 with 84 rows.\n",
      "NAICS codes read for code group 21 with 34 rows.\n",
      "NAICS codes read for code group 22 with 18 rows.\n",
      "NAICS codes read for code group 31-33 with 447 rows.\n",
      "NAICS codes read for code group 42 with 91 rows.\n",
      "NAICS codes read for code group 44-45 with 94 rows.\n",
      "NAICS codes read for code group 48-49 with 87 rows.\n",
      "NAICS codes read for code group 51 with 43 rows.\n",
      "NAICS codes read for code group 52 with 53 rows.\n",
      "NAICS codes read for code group 53 with 33 rows.\n",
      "NAICS codes read for code group 54 with 59 rows.\n",
      "NAICS codes read for code group 55 with 5 rows.\n",
      "NAICS codes read for code group 56 with 56 rows.\n",
      "NAICS codes read for code group 61 with 25 rows.\n",
      "NAICS codes read for code group 62 with 58 rows.\n",
      "NAICS codes read for code group 71 with 35 rows.\n",
      "NAICS codes read for code group 72 with 22 rows.\n",
      "NAICS codes read for code group 81 with 64 rows.\n",
      "NAICS codes read for code group 92 with 38 rows.\n"
     ]
    }
   ],
   "source": [
    "naics_11 = scrape_naics('11')\n",
    "naics_21 = scrape_naics('21')\n",
    "naics_22 = scrape_naics('22')\n",
    "naics_3133 = scrape_naics('31-33')\n",
    "naics_42 = scrape_naics('42')\n",
    "naics_4445 = scrape_naics('44-45')\n",
    "naics_4849 = scrape_naics('48-49')\n",
    "naics_51 = scrape_naics('51')\n",
    "naics_52 = scrape_naics('52')\n",
    "naics_53 = scrape_naics('53')\n",
    "naics_54 = scrape_naics('54')\n",
    "naics_55 = scrape_naics('55')\n",
    "naics_56 = scrape_naics('56')\n",
    "naics_61 = scrape_naics('61')\n",
    "naics_62 = scrape_naics('62')\n",
    "naics_71 = scrape_naics('71')\n",
    "naics_72 = scrape_naics('72')\n",
    "naics_81 = scrape_naics('81')\n",
    "naics_92 = scrape_naics('92')"
   ]
  },
  {
   "cell_type": "code",
   "execution_count": 4,
   "metadata": {},
   "outputs": [
    {
     "name": "stdout",
     "output_type": "stream",
     "text": [
      "NAICS dataframe has 1346 rows.\n"
     ]
    },
    {
     "data": {
      "text/html": [
       "<div>\n",
       "<style scoped>\n",
       "    .dataframe tbody tr th:only-of-type {\n",
       "        vertical-align: middle;\n",
       "    }\n",
       "\n",
       "    .dataframe tbody tr th {\n",
       "        vertical-align: top;\n",
       "    }\n",
       "\n",
       "    .dataframe thead th {\n",
       "        text-align: right;\n",
       "    }\n",
       "</style>\n",
       "<table border=\"1\" class=\"dataframe\">\n",
       "  <thead>\n",
       "    <tr style=\"text-align: right;\">\n",
       "      <th></th>\n",
       "      <th>NAICS_code</th>\n",
       "      <th>Industry_Title</th>\n",
       "      <th>Num_Businesses</th>\n",
       "    </tr>\n",
       "  </thead>\n",
       "  <tbody>\n",
       "    <tr>\n",
       "      <th>0</th>\n",
       "      <td>11</td>\n",
       "      <td>Agriculture, Forestry, Fishing and Hunting</td>\n",
       "      <td>350038</td>\n",
       "    </tr>\n",
       "    <tr>\n",
       "      <th>1</th>\n",
       "      <td>1111</td>\n",
       "      <td>Oilseed and Grain Farming</td>\n",
       "      <td>55359</td>\n",
       "    </tr>\n",
       "    <tr>\n",
       "      <th>2</th>\n",
       "      <td>111110</td>\n",
       "      <td>Soybean Farming</td>\n",
       "      <td>4590</td>\n",
       "    </tr>\n",
       "    <tr>\n",
       "      <th>3</th>\n",
       "      <td>111120</td>\n",
       "      <td>Oilseed (except Soybean) Farming</td>\n",
       "      <td>154</td>\n",
       "    </tr>\n",
       "    <tr>\n",
       "      <th>4</th>\n",
       "      <td>111130</td>\n",
       "      <td>Dry Pea and Bean Farming</td>\n",
       "      <td>3430</td>\n",
       "    </tr>\n",
       "  </tbody>\n",
       "</table>\n",
       "</div>"
      ],
      "text/plain": [
       "  NAICS_code                              Industry_Title  Num_Businesses\n",
       "0         11  Agriculture, Forestry, Fishing and Hunting          350038\n",
       "1       1111                   Oilseed and Grain Farming           55359\n",
       "2     111110                             Soybean Farming            4590\n",
       "3     111120            Oilseed (except Soybean) Farming             154\n",
       "4     111130                    Dry Pea and Bean Farming            3430"
      ]
     },
     "execution_count": 4,
     "metadata": {},
     "output_type": "execute_result"
    }
   ],
   "source": [
    "naics=pd.concat([naics_11, naics_21, naics_22, naics_3133, naics_42,\\\n",
    "                 naics_4445, naics_4849, naics_51, naics_52, naics_53,\\\n",
    "                 naics_54, naics_55, naics_56, naics_61, naics_62,\\\n",
    "                 naics_71, naics_72, naics_81, naics_92], axis=0, ignore_index=True)\n",
    "print(f\"NAICS dataframe has {len(naics)} rows.\")\n",
    "naics.head()"
   ]
  },
  {
   "cell_type": "code",
   "execution_count": 5,
   "metadata": {},
   "outputs": [],
   "source": [
    "# Export file as a CSV, without the Pandas index, but with the header ##\n",
    "outfile = os.path.join(outpath,'naics.csv')\n",
    "naics.to_csv(outfile,index=False)"
   ]
  },
  {
   "cell_type": "code",
   "execution_count": null,
   "metadata": {},
   "outputs": [],
   "source": []
  }
 ],
 "metadata": {
  "kernelspec": {
   "display_name": "Python 3",
   "language": "python",
   "name": "python3"
  },
  "language_info": {
   "codemirror_mode": {
    "name": "ipython",
    "version": 3
   },
   "file_extension": ".py",
   "mimetype": "text/x-python",
   "name": "python",
   "nbconvert_exporter": "python",
   "pygments_lexer": "ipython3",
   "version": "3.7.3"
  }
 },
 "nbformat": 4,
 "nbformat_minor": 2
}
