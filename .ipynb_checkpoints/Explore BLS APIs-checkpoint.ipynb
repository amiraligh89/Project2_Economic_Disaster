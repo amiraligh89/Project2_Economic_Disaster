{
 "cells": [
  {
   "cell_type": "code",
   "execution_count": 38,
   "metadata": {},
   "outputs": [],
   "source": [
    "import sys\n",
    "import json\n",
    "import csv \n",
    "import os\n",
    "import pandas as pd"
   ]
  },
  {
   "cell_type": "code",
   "execution_count": 39,
   "metadata": {},
   "outputs": [],
   "source": [
    "data_folder = os.path.join('.','Data')\n",
    "xlsfile = os.path.join(data_folder,'laucnty18.xlsx')\n",
    "jsonfile = os.path.join(data_folder,'cb_2018_us_county_20m.json')\n",
    "geojsonfile = os.path.join(data_folder,'CountiesPlusUnemp2018.geojson')"
   ]
  },
  {
   "cell_type": "code",
   "execution_count": 83,
   "metadata": {},
   "outputs": [],
   "source": [
    "xl = pd.ExcelFile(xlsfile)\n",
    "df = xl.parse(\"laucnty18\")\n",
    "df.columns = ['a', 'STATEFP','COUNTYFP','FullCountyName','Year','b','LaborForce','Employed','Unemployed','UnemploymentRate']\n",
    "\n",
    "# keep only lines that are data entries, not title lines or blanks\n",
    "df = df.loc[df[\"Year\"]==\"2018\",:]"
   ]
  },
  {
   "cell_type": "code",
   "execution_count": 84,
   "metadata": {},
   "outputs": [
    {
     "data": {
      "text/html": [
       "<div>\n",
       "<style scoped>\n",
       "    .dataframe tbody tr th:only-of-type {\n",
       "        vertical-align: middle;\n",
       "    }\n",
       "\n",
       "    .dataframe tbody tr th {\n",
       "        vertical-align: top;\n",
       "    }\n",
       "\n",
       "    .dataframe thead th {\n",
       "        text-align: right;\n",
       "    }\n",
       "</style>\n",
       "<table border=\"1\" class=\"dataframe\">\n",
       "  <thead>\n",
       "    <tr style=\"text-align: right;\">\n",
       "      <th></th>\n",
       "      <th>STATEFP</th>\n",
       "      <th>COUNTYFP</th>\n",
       "      <th>Year</th>\n",
       "      <th>LaborForce</th>\n",
       "      <th>Employed</th>\n",
       "      <th>Unemployed</th>\n",
       "      <th>UnemploymentRate</th>\n",
       "      <th>CountyName</th>\n",
       "      <th>StateAbbr</th>\n",
       "    </tr>\n",
       "  </thead>\n",
       "  <tbody>\n",
       "    <tr>\n",
       "      <th>5</th>\n",
       "      <td>01</td>\n",
       "      <td>001</td>\n",
       "      <td>2018</td>\n",
       "      <td>25957</td>\n",
       "      <td>25015</td>\n",
       "      <td>942</td>\n",
       "      <td>3.6</td>\n",
       "      <td>Autauga County</td>\n",
       "      <td>AL</td>\n",
       "    </tr>\n",
       "    <tr>\n",
       "      <th>6</th>\n",
       "      <td>01</td>\n",
       "      <td>003</td>\n",
       "      <td>2018</td>\n",
       "      <td>93849</td>\n",
       "      <td>90456</td>\n",
       "      <td>3393</td>\n",
       "      <td>3.6</td>\n",
       "      <td>Baldwin County</td>\n",
       "      <td>AL</td>\n",
       "    </tr>\n",
       "    <tr>\n",
       "      <th>7</th>\n",
       "      <td>01</td>\n",
       "      <td>005</td>\n",
       "      <td>2018</td>\n",
       "      <td>8373</td>\n",
       "      <td>7940</td>\n",
       "      <td>433</td>\n",
       "      <td>5.2</td>\n",
       "      <td>Barbour County</td>\n",
       "      <td>AL</td>\n",
       "    </tr>\n",
       "    <tr>\n",
       "      <th>8</th>\n",
       "      <td>01</td>\n",
       "      <td>007</td>\n",
       "      <td>2018</td>\n",
       "      <td>8661</td>\n",
       "      <td>8317</td>\n",
       "      <td>344</td>\n",
       "      <td>4</td>\n",
       "      <td>Bibb County</td>\n",
       "      <td>AL</td>\n",
       "    </tr>\n",
       "    <tr>\n",
       "      <th>9</th>\n",
       "      <td>01</td>\n",
       "      <td>009</td>\n",
       "      <td>2018</td>\n",
       "      <td>25006</td>\n",
       "      <td>24128</td>\n",
       "      <td>878</td>\n",
       "      <td>3.5</td>\n",
       "      <td>Blount County</td>\n",
       "      <td>AL</td>\n",
       "    </tr>\n",
       "  </tbody>\n",
       "</table>\n",
       "</div>"
      ],
      "text/plain": [
       "  STATEFP COUNTYFP  Year LaborForce Employed Unemployed UnemploymentRate  \\\n",
       "5      01      001  2018      25957    25015        942              3.6   \n",
       "6      01      003  2018      93849    90456       3393              3.6   \n",
       "7      01      005  2018       8373     7940        433              5.2   \n",
       "8      01      007  2018       8661     8317        344                4   \n",
       "9      01      009  2018      25006    24128        878              3.5   \n",
       "\n",
       "       CountyName StateAbbr  \n",
       "5  Autauga County        AL  \n",
       "6  Baldwin County        AL  \n",
       "7  Barbour County        AL  \n",
       "8     Bibb County        AL  \n",
       "9   Blount County        AL  "
      ]
     },
     "execution_count": 84,
     "metadata": {},
     "output_type": "execute_result"
    }
   ],
   "source": [
    "# separate the state from the county name\n",
    "# new data frame with split value columns \n",
    "new = df[\"FullCountyName\"].str.split(\",\", n = 1, expand = True) \n",
    "new.head()\n",
    "\n",
    "# making separate first name column from new data frame \n",
    "df[\"CountyName\"]= new[0] \n",
    "  \n",
    "# making separate last name column from new data frame \n",
    "df[\"StateAbbr\"]= new[1] \n",
    "  \n",
    "# Dropping old Name columns \n",
    "df.drop(columns =['a','b',\"FullCountyName\"], inplace = True) \n",
    "df.head()"
   ]
  },
  {
   "cell_type": "code",
   "execution_count": 85,
   "metadata": {},
   "outputs": [
    {
     "data": {
      "text/plain": [
       "array(['01', '02', '04', '05', '06', '08', '09', '10', '11', '12', '13',\n",
       "       '15', '16', '17', '18', '19', '20', '21', '22', '23', '24', '25',\n",
       "       '26', '27', '28', '29', '30', '31', '32', '33', '34', '35', '36',\n",
       "       '37', '38', '39', '40', '41', '42', '44', '45', '46', '47', '48',\n",
       "       '49', '50', '51', '53', '54', '55', '56', '72'], dtype=object)"
      ]
     },
     "execution_count": 85,
     "metadata": {},
     "output_type": "execute_result"
    }
   ],
   "source": [
    "# take out eol characters\\\n",
    "df['STATEFP'] = df['STATEFP'].str.extract('(\\d+)', expand=False)\n",
    "df.STATEFP.unique()"
   ]
  },
  {
   "cell_type": "code",
   "execution_count": 86,
   "metadata": {},
   "outputs": [
    {
     "data": {
      "text/plain": [
       "array(['001', '003', '005', '007', '009', '011', '013', '015', '017',\n",
       "       '019', '021', '023', '025', '027', '029', '031', '033', '035',\n",
       "       '037', '039', '041', '043', '045', '047', '049', '051', '053',\n",
       "       '055', '057', '059', '061', '063', '065', '067', '069', '071',\n",
       "       '073', '075', '077', '079', '081', '083', '085', '087', '089',\n",
       "       '091', '093', '095', '097', '099', '101', '103', '105', '107',\n",
       "       '109', '111', '113', '115', '117', '119', '121', '123', '125',\n",
       "       '127', '129', '131', '133', '016', '020', '050', '060', '068',\n",
       "       '070', '090', '100', '110', '122', '130', '150', '158', '164',\n",
       "       '170', '180', '185', '188', '195', '198', '220', '230', '240',\n",
       "       '261', '275', '282', '290', '012', '135', '137', '139', '141',\n",
       "       '143', '145', '147', '149', '014', '086', '151', '153', '155',\n",
       "       '157', '159', '161', '163', '165', '167', '169', '171', '173',\n",
       "       '175', '177', '179', '181', '183', '187', '189', '191', '193',\n",
       "       '197', '199', '201', '205', '207', '209', '211', '213', '215',\n",
       "       '217', '219', '221', '223', '225', '227', '229', '231', '233',\n",
       "       '235', '237', '239', '241', '243', '245', '247', '249', '251',\n",
       "       '253', '255', '257', '259', '263', '265', '267', '269', '271',\n",
       "       '273', '277', '279', '281', '283', '285', '287', '289', '291',\n",
       "       '293', '295', '297', '299', '301', '303', '305', '307', '309',\n",
       "       '311', '313', '315', '317', '319', '321', '203', '510', '186',\n",
       "       '006', '028', '102', '323', '325', '327', '329', '331', '333',\n",
       "       '335', '337', '339', '341', '343', '345', '347', '349', '351',\n",
       "       '353', '355', '357', '359', '361', '363', '365', '367', '369',\n",
       "       '371', '373', '375', '377', '379', '381', '383', '385', '387',\n",
       "       '389', '391', '393', '395', '397', '399', '401', '403', '405',\n",
       "       '407', '409', '411', '413', '415', '417', '419', '421', '423',\n",
       "       '425', '427', '429', '431', '433', '435', '437', '439', '441',\n",
       "       '443', '445', '447', '449', '451', '453', '455', '457', '459',\n",
       "       '461', '463', '465', '467', '469', '471', '473', '475', '477',\n",
       "       '479', '481', '483', '485', '487', '489', '491', '493', '495',\n",
       "       '497', '499', '501', '503', '505', '507', '036', '520', '530',\n",
       "       '540', '550', '570', '580', '590', '595', '600', '610', '620',\n",
       "       '630', '640', '650', '660', '670', '678', '680', '683', '685',\n",
       "       '690', '700', '710', '720', '730', '735', '740', '750', '760',\n",
       "       '770', '775', '790', '800', '810', '820', '830', '840', '078',\n",
       "       '054'], dtype=object)"
      ]
     },
     "execution_count": 86,
     "metadata": {},
     "output_type": "execute_result"
    }
   ],
   "source": [
    "df['COUNTYFP'] = df['COUNTYFP'].str.extract('(\\d+)', expand=False)\n",
    "df.COUNTYFP.unique()"
   ]
  },
  {
   "cell_type": "code",
   "execution_count": 87,
   "metadata": {},
   "outputs": [
    {
     "data": {
      "text/plain": [
       "array([25957, 93849,  8373, ...,  7329,  8826,  9770], dtype=int64)"
      ]
     },
     "execution_count": 87,
     "metadata": {},
     "output_type": "execute_result"
    }
   ],
   "source": [
    "df['LaborForce'] = df['LaborForce'].astype(int)\n",
    "df.LaborForce.unique()"
   ]
  },
  {
   "cell_type": "code",
   "execution_count": 88,
   "metadata": {},
   "outputs": [
    {
     "data": {
      "text/plain": [
       "array([25015, 90456,  7940, ...,  6164,  7566,  8329], dtype=int64)"
      ]
     },
     "execution_count": 88,
     "metadata": {},
     "output_type": "execute_result"
    }
   ],
   "source": [
    "df['Employed'] = df['Employed'].astype(int)\n",
    "df.Employed.unique()"
   ]
  },
  {
   "cell_type": "code",
   "execution_count": 89,
   "metadata": {},
   "outputs": [
    {
     "data": {
      "text/plain": [
       "array([ 942, 3393,  433, ..., 1381, 1373, 1260], dtype=int64)"
      ]
     },
     "execution_count": 89,
     "metadata": {},
     "output_type": "execute_result"
    }
   ],
   "source": [
    "df['Unemployed'] = df['Unemployed'].astype(int)\n",
    "df.Unemployed.unique()"
   ]
  },
  {
   "cell_type": "code",
   "execution_count": 90,
   "metadata": {},
   "outputs": [
    {
     "data": {
      "text/plain": [
       "array([ 3.6,  5.2,  4. ,  3.5,  4.7,  4.8,  3.9,  5.5,  7.5,  4.2,  4.6,\n",
       "        4.1,  3.3,  6.5,  3.8,  3.4,  3.7,  6.7,  5.1,  4.4,  7.3,  5. ,\n",
       "        6.2,  4.5,  2.9,  5.9,  4.3,  5.8,  9.6,  3. , 12.8,  6.3,  7.8,\n",
       "        8.2,  9.5, 12.6,  7.7,  6. , 19.9, 11.6,  7.6,  7. , 14.2,  8.7,\n",
       "       10.9,  9.8,  7.4, 15.3, 10.1,  5.6,  9.3, 17. ,  3.2,  6.9,  3.1,\n",
       "        5.3,  5.7,  6.1,  2.6, 12.9, 18.1,  8. ,  2.4,  8.3,  2.2,  4.9,\n",
       "        2.7,  6.4,  1.8,  2.8,  2.5,  2. ,  1.9,  5.4,  6.8,  6.6,  2.3,\n",
       "        2.1,  1.7,  7.9,  1.5,  1.6,  9.2,  7.1,  7.2,  8.4, 13.2, 10.3,\n",
       "        9.7,  8.6,  8.1,  8.9,  9. , 13.3,  8.5, 11.9,  1.3,  9.4,  8.8,\n",
       "        9.9, 11.7, 10.4, 13.8, 11.2, 12.4, 13.7, 11.8, 10.2, 13.5, 12.5,\n",
       "       13.9, 15.5, 14.4, 12.7, 11.5, 10.6, 10.7, 16.1, 14.1, 15.1, 11.3,\n",
       "       11.1, 12.3, 17.7, 14.8, 12.1, 14.6, 16.5, 15.9, 14.3, 14.7])"
      ]
     },
     "execution_count": 90,
     "metadata": {},
     "output_type": "execute_result"
    }
   ],
   "source": [
    "df['UnemploymentRate'] = df['UnemploymentRate'].astype(float)\n",
    "df.UnemploymentRate.unique()"
   ]
  },
  {
   "cell_type": "code",
   "execution_count": 106,
   "metadata": {},
   "outputs": [
    {
     "data": {
      "text/html": [
       "<div>\n",
       "<style scoped>\n",
       "    .dataframe tbody tr th:only-of-type {\n",
       "        vertical-align: middle;\n",
       "    }\n",
       "\n",
       "    .dataframe tbody tr th {\n",
       "        vertical-align: top;\n",
       "    }\n",
       "\n",
       "    .dataframe thead th {\n",
       "        text-align: right;\n",
       "    }\n",
       "</style>\n",
       "<table border=\"1\" class=\"dataframe\">\n",
       "  <thead>\n",
       "    <tr style=\"text-align: right;\">\n",
       "      <th></th>\n",
       "      <th>STATEFP</th>\n",
       "      <th>COUNTYFP</th>\n",
       "      <th>Year</th>\n",
       "      <th>LaborForce</th>\n",
       "      <th>Employed</th>\n",
       "      <th>Unemployed</th>\n",
       "      <th>UnemploymentRate</th>\n",
       "      <th>CountyName</th>\n",
       "      <th>StateAbbr</th>\n",
       "    </tr>\n",
       "  </thead>\n",
       "  <tbody>\n",
       "    <tr>\n",
       "      <th>5</th>\n",
       "      <td>01</td>\n",
       "      <td>001</td>\n",
       "      <td>2018</td>\n",
       "      <td>25957</td>\n",
       "      <td>25015</td>\n",
       "      <td>942</td>\n",
       "      <td>3.6</td>\n",
       "      <td>Autauga County</td>\n",
       "      <td>AL</td>\n",
       "    </tr>\n",
       "    <tr>\n",
       "      <th>6</th>\n",
       "      <td>01</td>\n",
       "      <td>003</td>\n",
       "      <td>2018</td>\n",
       "      <td>93849</td>\n",
       "      <td>90456</td>\n",
       "      <td>3393</td>\n",
       "      <td>3.6</td>\n",
       "      <td>Baldwin County</td>\n",
       "      <td>AL</td>\n",
       "    </tr>\n",
       "    <tr>\n",
       "      <th>7</th>\n",
       "      <td>01</td>\n",
       "      <td>005</td>\n",
       "      <td>2018</td>\n",
       "      <td>8373</td>\n",
       "      <td>7940</td>\n",
       "      <td>433</td>\n",
       "      <td>5.2</td>\n",
       "      <td>Barbour County</td>\n",
       "      <td>AL</td>\n",
       "    </tr>\n",
       "    <tr>\n",
       "      <th>8</th>\n",
       "      <td>01</td>\n",
       "      <td>007</td>\n",
       "      <td>2018</td>\n",
       "      <td>8661</td>\n",
       "      <td>8317</td>\n",
       "      <td>344</td>\n",
       "      <td>4.0</td>\n",
       "      <td>Bibb County</td>\n",
       "      <td>AL</td>\n",
       "    </tr>\n",
       "    <tr>\n",
       "      <th>9</th>\n",
       "      <td>01</td>\n",
       "      <td>009</td>\n",
       "      <td>2018</td>\n",
       "      <td>25006</td>\n",
       "      <td>24128</td>\n",
       "      <td>878</td>\n",
       "      <td>3.5</td>\n",
       "      <td>Blount County</td>\n",
       "      <td>AL</td>\n",
       "    </tr>\n",
       "  </tbody>\n",
       "</table>\n",
       "</div>"
      ],
      "text/plain": [
       "  STATEFP COUNTYFP  Year  LaborForce  Employed  Unemployed  UnemploymentRate  \\\n",
       "5      01      001  2018       25957     25015         942               3.6   \n",
       "6      01      003  2018       93849     90456        3393               3.6   \n",
       "7      01      005  2018        8373      7940         433               5.2   \n",
       "8      01      007  2018        8661      8317         344               4.0   \n",
       "9      01      009  2018       25006     24128         878               3.5   \n",
       "\n",
       "       CountyName StateAbbr  \n",
       "5  Autauga County        AL  \n",
       "6  Baldwin County        AL  \n",
       "7  Barbour County        AL  \n",
       "8     Bibb County        AL  \n",
       "9   Blount County        AL  "
      ]
     },
     "execution_count": 106,
     "metadata": {},
     "output_type": "execute_result"
    }
   ],
   "source": [
    "# Create blank dictionaries that will be come the employment data and the final geojson\n",
    "empdata = {}\n",
    "geojson = {}\n",
    "df.head()"
   ]
  },
  {
   "cell_type": "code",
   "execution_count": 107,
   "metadata": {},
   "outputs": [
    {
     "ename": "NameError",
     "evalue": "name 'LaborForce' is not defined",
     "output_type": "error",
     "traceback": [
      "\u001b[1;31m---------------------------------------------------------------------------\u001b[0m",
      "\u001b[1;31mNameError\u001b[0m                                 Traceback (most recent call last)",
      "\u001b[1;32m<ipython-input-107-718c3142172a>\u001b[0m in \u001b[0;36m<module>\u001b[1;34m\u001b[0m\n\u001b[0;32m      7\u001b[0m \u001b[1;33m\u001b[0m\u001b[0m\n\u001b[0;32m      8\u001b[0m     empdata['STATEFP']['COUNTYFP'] = {\n\u001b[1;32m----> 9\u001b[1;33m         \u001b[1;34m'LaborForce'\u001b[0m\u001b[1;33m:\u001b[0m \u001b[0mLaborForce\u001b[0m\u001b[1;33m,\u001b[0m\u001b[1;33m\u001b[0m\u001b[1;33m\u001b[0m\u001b[0m\n\u001b[0m\u001b[0;32m     10\u001b[0m         \u001b[1;34m'Employed'\u001b[0m\u001b[1;33m:\u001b[0m \u001b[0mEmployed\u001b[0m\u001b[1;33m,\u001b[0m\u001b[1;33m\u001b[0m\u001b[1;33m\u001b[0m\u001b[0m\n\u001b[0;32m     11\u001b[0m         \u001b[1;34m'Unemployed'\u001b[0m\u001b[1;33m:\u001b[0m \u001b[0mUnemployed\u001b[0m\u001b[1;33m,\u001b[0m\u001b[1;33m\u001b[0m\u001b[1;33m\u001b[0m\u001b[0m\n",
      "\u001b[1;31mNameError\u001b[0m: name 'LaborForce' is not defined"
     ]
    }
   ],
   "source": [
    "for row,rowvals in df.iterrows():\n",
    "    if row < 5:\n",
    "        print(f'row = {row}, rowvals = {rowvals}')\n",
    "            \n",
    "    if 'STATEFP' not in empdata:\n",
    "        empdata['STATEFP']={}\n",
    "        empdata['COUNTYFP']={}\n",
    "        \n",
    "    empdata[rowvals[0]][rowvals[1]] = {\n",
    "        'LaborForce': rowvals[3],\n",
    "        'Employed': rowvals[4],\n",
    "        'Unemployed': rowvals[5],\n",
    "        'UnemploymentRate': rowvals[6]\n",
    "    }\n"
   ]
  },
  {
   "cell_type": "code",
   "execution_count": 102,
   "metadata": {},
   "outputs": [
    {
     "ename": "IndentationError",
     "evalue": "unexpected indent (<ipython-input-102-d5145e48172a>, line 2)",
     "output_type": "error",
     "traceback": [
      "\u001b[1;36m  File \u001b[1;32m\"<ipython-input-102-d5145e48172a>\"\u001b[1;36m, line \u001b[1;32m2\u001b[0m\n\u001b[1;33m    statefip = row[0]\u001b[0m\n\u001b[1;37m    ^\u001b[0m\n\u001b[1;31mIndentationError\u001b[0m\u001b[1;31m:\u001b[0m unexpected indent\n"
     ]
    }
   ],
   "source": [
    "\n",
    "    statefip = row[0]\n",
    "    countyfip = row[1]\n",
    "    labor_force = row[3]\n",
    "    employed = row[4]\n",
    "    unemployment_level = row[5]\n",
    "    unemployment_rate = row[6]\n",
    "    \n",
    "    if statefip not in empdata:\n",
    "        empdata[statefip]={}\n",
    "        \n",
    "    empdata[statefip][countyfip] = {\n",
    "        'labor_force': labor_force,\n",
    "        'employed': employed,\n",
    "        'unemployment_level': unemployment_level,\n",
    "        'unemployment_rate': unemployment_rate\n",
    "    }"
   ]
  },
  {
   "cell_type": "raw",
   "metadata": {},
   "source": []
  }
 ],
 "metadata": {
  "kernelspec": {
   "display_name": "Python 3",
   "language": "python",
   "name": "python3"
  },
  "language_info": {
   "codemirror_mode": {
    "name": "ipython",
    "version": 3
   },
   "file_extension": ".py",
   "mimetype": "text/x-python",
   "name": "python",
   "nbconvert_exporter": "python",
   "pygments_lexer": "ipython3",
   "version": "3.7.3"
  }
 },
 "nbformat": 4,
 "nbformat_minor": 2
}
