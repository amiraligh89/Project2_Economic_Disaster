{
 "cells": [
  {
   "cell_type": "code",
   "execution_count": 34,
   "metadata": {},
   "outputs": [
    {
     "name": "stdout",
     "output_type": "stream",
     "text": [
      "./output_data\n"
     ]
    }
   ],
   "source": [
    "# Dependencies\n",
    "import pymongo\n",
    "import datetime\n",
    "from flask import Flask, render_template escape, request\n",
    "\n"
   ]
  },
  {
   "cell_type": "code",
   "execution_count": null,
   "metadata": {},
   "outputs": [],
   "source": [
    "\n",
    "# Create an instance of our Flask app.\n",
    "app = Flask(__name__)"
   ]
  },
  {
   "cell_type": "code",
   "execution_count": null,
   "metadata": {},
   "outputs": [],
   "source": [
    "# The default port used by MongoDB is 27017\n",
    "# https://docs.mongodb.com/manual/reference/default-mongodb-port/\n",
    "conn = 'mongodb://localhost:27017'\n",
    "client = pymongo.MongoClient(conn)"
   ]
  },
  {
   "cell_type": "code",
   "execution_count": 18,
   "metadata": {},
   "outputs": [],
   "source": [
    "# Declare the database\n",
    "db = client.fruits_db\n",
    "\n",
    "# Declare the collection\n",
    "collection = db.fruits_db\n"
   ]
  },
  {
   "cell_type": "code",
   "execution_count": null,
   "metadata": {},
   "outputs": [],
   "source": [
    "# Part I\n",
    "# A dictionary that represents the document to be inserted\n",
    "post = {\n",
    "    'vendor': 'fruit star',\n",
    "    'fruit': 'raspberry',\n",
    "    'quantity': 21,\n",
    "    'ripeness': 2,\n",
    "    'date': datetime.datetime.utcnow()\n",
    "}\n",
    "# Insert the document into the database\n",
    "# The database and collection, if they don't already exist, will be created at this point.\n",
    "collection.insert_one(post)\n",
    "\n"
   ]
  },
  {
   "cell_type": "code",
   "execution_count": null,
   "metadata": {},
   "outputs": [],
   "source": [
    "# Part II\n",
    "# Ask the user for input. Store information into variables.\n",
    "vendor = input('Vendor name: ')\n",
    "fruit_type = input('Type of fruit: ')\n",
    "quantity = input('Number of boxes received: ')\n",
    "ripeness = input('Ripeness of fruit (1 is unripe; 2 is ripe, 3 is over-ripe: ')\n",
    "\n",
    "# A dictionary that will become a MongoDB document\n",
    "post = {\n",
    "    'vendor': vendor,\n",
    "    'fruit': fruit_type,\n",
    "    'quantity': quantity,\n",
    "    'ripeness': ripeness,\n",
    "    'date': datetime.datetime.utcnow()\n",
    "}\n",
    "\n",
    "# Insert document into collection\n",
    "collection.insert_one(post)\n"
   ]
  },
  {
   "cell_type": "code",
   "execution_count": null,
   "metadata": {},
   "outputs": [],
   "source": [
    "# Verify results:\n",
    "results = db.fruits_db.find()\n",
    "for result in results:\n",
    "    print(result)"
   ]
  },
  {
   "cell_type": "code",
   "execution_count": null,
   "metadata": {},
   "outputs": [],
   "source": [
    "# Set route\n",
    "@app.route('/')\n",
    "def index():\n",
    "    # Store the entire team collection in a list\n",
    "    teams = list(db.team.find())\n",
    "    print(teams)\n",
    "\n",
    "    # Return the template with the teams list passed in\n",
    "    return render_template('index.html', teams=teams)\n",
    "\n",
    "\n",
    "if __name__ == \"__main__\":\n",
    "    app.run(debug=True)"
   ]
  }
 ],
 "metadata": {
  "kernelspec": {
   "display_name": "Python 3",
   "language": "python",
   "name": "python3"
  },
  "language_info": {
   "codemirror_mode": {
    "name": "ipython",
    "version": 3
   },
   "file_extension": ".py",
   "mimetype": "text/x-python",
   "name": "python",
   "nbconvert_exporter": "python",
   "pygments_lexer": "ipython3",
   "version": "3.7.3"
  }
 },
 "nbformat": 4,
 "nbformat_minor": 2
}
